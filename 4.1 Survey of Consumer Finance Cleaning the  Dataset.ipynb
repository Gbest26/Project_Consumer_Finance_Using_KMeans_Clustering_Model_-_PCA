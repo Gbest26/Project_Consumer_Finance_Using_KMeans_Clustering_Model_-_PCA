{
 "cells": [
  {
   "cell_type": "markdown",
   "id": "9d76be3a",
   "metadata": {},
   "source": [
    "# Data from Survey of Consumer Finances\n",
    "\n",
    "In this project, am going to work with data from the **Survey of Consumer Finances (SCF)**. The SCF is a survey sponsored by the US Federal Reserve. It tracks financial, demographic, and opinion information about families in the United States. The survey is conducted every three years, and we'll work with an extract of the results from 2019."
   ]
  },
  {
   "cell_type": "code",
   "execution_count": 1,
   "id": "8e878f27",
   "metadata": {},
   "outputs": [],
   "source": [
    "import pandas as pd\n",
    "import matplotlib.pyplot as plt\n",
    "import seaborn as sns\n",
    "import warnings\n",
    "\n",
    "warnings.filterwarnings(\"ignore\")"
   ]
  },
  {
   "cell_type": "markdown",
   "id": "e1932320",
   "metadata": {},
   "source": [
    "## Prepare Data\n",
    "\n",
    "### Import\n",
    "First, i need to load the data, which is stored in a CSV file: SCFP2009.csv."
   ]
  },
  {
   "cell_type": "code",
   "execution_count": 2,
   "id": "b9194009",
   "metadata": {},
   "outputs": [
    {
     "name": "stdout",
     "output_type": "stream",
     "text": [
      "(19285, 515)\n"
     ]
    },
    {
     "data": {
      "text/html": [
       "<div>\n",
       "<style scoped>\n",
       "    .dataframe tbody tr th:only-of-type {\n",
       "        vertical-align: middle;\n",
       "    }\n",
       "\n",
       "    .dataframe tbody tr th {\n",
       "        vertical-align: top;\n",
       "    }\n",
       "\n",
       "    .dataframe thead th {\n",
       "        text-align: right;\n",
       "    }\n",
       "</style>\n",
       "<table border=\"1\" class=\"dataframe\">\n",
       "  <thead>\n",
       "    <tr style=\"text-align: right;\">\n",
       "      <th></th>\n",
       "      <th>YY1</th>\n",
       "      <th>Y1</th>\n",
       "      <th>WGT09</th>\n",
       "      <th>AGE07</th>\n",
       "      <th>AGECL07</th>\n",
       "      <th>EDUC07</th>\n",
       "      <th>EDCL07</th>\n",
       "      <th>MARRIED07</th>\n",
       "      <th>KIDS07</th>\n",
       "      <th>LIFECL07</th>\n",
       "      <th>...</th>\n",
       "      <th>NHMORTPCT</th>\n",
       "      <th>WAGEINCPCT</th>\n",
       "      <th>BUSSEFARMINCPCT</th>\n",
       "      <th>INTDIVINCPCT</th>\n",
       "      <th>KGINCPCT</th>\n",
       "      <th>SSRETINCPCT</th>\n",
       "      <th>TRANSFOTHINCPCT</th>\n",
       "      <th>PSAVINGPCT</th>\n",
       "      <th>LEVERAGEPCT</th>\n",
       "      <th>I</th>\n",
       "    </tr>\n",
       "  </thead>\n",
       "  <tbody>\n",
       "    <tr>\n",
       "      <th>0</th>\n",
       "      <td>1</td>\n",
       "      <td>11</td>\n",
       "      <td>11668.13420</td>\n",
       "      <td>47</td>\n",
       "      <td>3</td>\n",
       "      <td>12</td>\n",
       "      <td>2</td>\n",
       "      <td>1</td>\n",
       "      <td>0</td>\n",
       "      <td>2</td>\n",
       "      <td>...</td>\n",
       "      <td>-21.052632</td>\n",
       "      <td>-32.931828</td>\n",
       "      <td>0.0</td>\n",
       "      <td>15939.27894</td>\n",
       "      <td>0.0</td>\n",
       "      <td>0.0</td>\n",
       "      <td>0.0</td>\n",
       "      <td>93.125197</td>\n",
       "      <td>270.403054</td>\n",
       "      <td>57</td>\n",
       "    </tr>\n",
       "    <tr>\n",
       "      <th>1</th>\n",
       "      <td>1</td>\n",
       "      <td>12</td>\n",
       "      <td>11823.45649</td>\n",
       "      <td>47</td>\n",
       "      <td>3</td>\n",
       "      <td>12</td>\n",
       "      <td>2</td>\n",
       "      <td>1</td>\n",
       "      <td>0</td>\n",
       "      <td>2</td>\n",
       "      <td>...</td>\n",
       "      <td>-21.052632</td>\n",
       "      <td>-32.931828</td>\n",
       "      <td>0.0</td>\n",
       "      <td>15939.27894</td>\n",
       "      <td>0.0</td>\n",
       "      <td>0.0</td>\n",
       "      <td>0.0</td>\n",
       "      <td>93.125197</td>\n",
       "      <td>249.593620</td>\n",
       "      <td>57</td>\n",
       "    </tr>\n",
       "    <tr>\n",
       "      <th>2</th>\n",
       "      <td>1</td>\n",
       "      <td>13</td>\n",
       "      <td>11913.22835</td>\n",
       "      <td>47</td>\n",
       "      <td>3</td>\n",
       "      <td>12</td>\n",
       "      <td>2</td>\n",
       "      <td>1</td>\n",
       "      <td>0</td>\n",
       "      <td>2</td>\n",
       "      <td>...</td>\n",
       "      <td>-50.000000</td>\n",
       "      <td>-32.931828</td>\n",
       "      <td>0.0</td>\n",
       "      <td>15939.27894</td>\n",
       "      <td>0.0</td>\n",
       "      <td>0.0</td>\n",
       "      <td>0.0</td>\n",
       "      <td>93.125197</td>\n",
       "      <td>209.233358</td>\n",
       "      <td>57</td>\n",
       "    </tr>\n",
       "    <tr>\n",
       "      <th>3</th>\n",
       "      <td>1</td>\n",
       "      <td>14</td>\n",
       "      <td>11929.39427</td>\n",
       "      <td>47</td>\n",
       "      <td>3</td>\n",
       "      <td>12</td>\n",
       "      <td>2</td>\n",
       "      <td>1</td>\n",
       "      <td>0</td>\n",
       "      <td>2</td>\n",
       "      <td>...</td>\n",
       "      <td>-33.333333</td>\n",
       "      <td>-32.931828</td>\n",
       "      <td>0.0</td>\n",
       "      <td>15939.27894</td>\n",
       "      <td>0.0</td>\n",
       "      <td>0.0</td>\n",
       "      <td>0.0</td>\n",
       "      <td>93.125197</td>\n",
       "      <td>209.273158</td>\n",
       "      <td>57</td>\n",
       "    </tr>\n",
       "    <tr>\n",
       "      <th>4</th>\n",
       "      <td>1</td>\n",
       "      <td>15</td>\n",
       "      <td>11917.72291</td>\n",
       "      <td>47</td>\n",
       "      <td>3</td>\n",
       "      <td>12</td>\n",
       "      <td>2</td>\n",
       "      <td>1</td>\n",
       "      <td>0</td>\n",
       "      <td>2</td>\n",
       "      <td>...</td>\n",
       "      <td>-38.596491</td>\n",
       "      <td>-32.931828</td>\n",
       "      <td>0.0</td>\n",
       "      <td>15939.27894</td>\n",
       "      <td>0.0</td>\n",
       "      <td>0.0</td>\n",
       "      <td>0.0</td>\n",
       "      <td>93.125197</td>\n",
       "      <td>232.690767</td>\n",
       "      <td>57</td>\n",
       "    </tr>\n",
       "  </tbody>\n",
       "</table>\n",
       "<p>5 rows × 515 columns</p>\n",
       "</div>"
      ],
      "text/plain": [
       "   YY1  Y1        WGT09  AGE07  AGECL07  EDUC07  EDCL07  MARRIED07  KIDS07  \\\n",
       "0    1  11  11668.13420     47        3      12       2          1       0   \n",
       "1    1  12  11823.45649     47        3      12       2          1       0   \n",
       "2    1  13  11913.22835     47        3      12       2          1       0   \n",
       "3    1  14  11929.39427     47        3      12       2          1       0   \n",
       "4    1  15  11917.72291     47        3      12       2          1       0   \n",
       "\n",
       "   LIFECL07  ...  NHMORTPCT  WAGEINCPCT  BUSSEFARMINCPCT  INTDIVINCPCT  \\\n",
       "0         2  ... -21.052632  -32.931828              0.0   15939.27894   \n",
       "1         2  ... -21.052632  -32.931828              0.0   15939.27894   \n",
       "2         2  ... -50.000000  -32.931828              0.0   15939.27894   \n",
       "3         2  ... -33.333333  -32.931828              0.0   15939.27894   \n",
       "4         2  ... -38.596491  -32.931828              0.0   15939.27894   \n",
       "\n",
       "   KGINCPCT  SSRETINCPCT  TRANSFOTHINCPCT  PSAVINGPCT  LEVERAGEPCT   I  \n",
       "0       0.0          0.0              0.0   93.125197   270.403054  57  \n",
       "1       0.0          0.0              0.0   93.125197   249.593620  57  \n",
       "2       0.0          0.0              0.0   93.125197   209.233358  57  \n",
       "3       0.0          0.0              0.0   93.125197   209.273158  57  \n",
       "4       0.0          0.0              0.0   93.125197   232.690767  57  \n",
       "\n",
       "[5 rows x 515 columns]"
      ]
     },
     "execution_count": 2,
     "metadata": {},
     "output_type": "execute_result"
    }
   ],
   "source": [
    "df = wrangle(r\"C:\\Users\\gbest\\Desktop\\my_project\\consumer_finance_in_usa\\SCFP2009.csv\")\n",
    "print(df.shape)\n",
    "df.head()"
   ]
  },
  {
   "cell_type": "markdown",
   "id": "08e8caa1",
   "metadata": {},
   "source": [
    "One of the first things you might notice here is that this dataset is HUGE — over 19,000 rows and 515 columns! SO MUCH DATA!!! We won't have time to explore all of the features in this dataset, but you can look in the data dictionary for this project for details and links to the official Code Book. For now, let's just say that this dataset tracks all sorts of behaviors relating to the ways households earn, save, and spend money in the United States.\n",
    "\n",
    "For this project, am going to focus on households that have \"been turned down for credit or feared being denied credit in the past 5 years.\" These households are identified in the \"TURNFEAR\" column."
   ]
  },
  {
   "cell_type": "markdown",
   "id": "5a72e605",
   "metadata": {},
   "source": [
    "Use a mask to subset create df to only households that have been turned down or feared being turned down for credit (\"TURNFEAR\" == 1). Assign this subset to the variable name df_fear."
   ]
  },
  {
   "cell_type": "code",
   "execution_count": 4,
   "id": "d7861acd",
   "metadata": {
    "scrolled": true
   },
   "outputs": [
    {
     "data": {
      "text/html": [
       "<div>\n",
       "<style scoped>\n",
       "    .dataframe tbody tr th:only-of-type {\n",
       "        vertical-align: middle;\n",
       "    }\n",
       "\n",
       "    .dataframe tbody tr th {\n",
       "        vertical-align: top;\n",
       "    }\n",
       "\n",
       "    .dataframe thead th {\n",
       "        text-align: right;\n",
       "    }\n",
       "</style>\n",
       "<table border=\"1\" class=\"dataframe\">\n",
       "  <thead>\n",
       "    <tr style=\"text-align: right;\">\n",
       "      <th></th>\n",
       "      <th>YY1</th>\n",
       "      <th>Y1</th>\n",
       "      <th>WGT09</th>\n",
       "      <th>AGE07</th>\n",
       "      <th>AGECL07</th>\n",
       "      <th>EDUC07</th>\n",
       "      <th>EDCL07</th>\n",
       "      <th>MARRIED07</th>\n",
       "      <th>KIDS07</th>\n",
       "      <th>LIFECL07</th>\n",
       "      <th>...</th>\n",
       "      <th>NHMORTPCT</th>\n",
       "      <th>WAGEINCPCT</th>\n",
       "      <th>BUSSEFARMINCPCT</th>\n",
       "      <th>INTDIVINCPCT</th>\n",
       "      <th>KGINCPCT</th>\n",
       "      <th>SSRETINCPCT</th>\n",
       "      <th>TRANSFOTHINCPCT</th>\n",
       "      <th>PSAVINGPCT</th>\n",
       "      <th>LEVERAGEPCT</th>\n",
       "      <th>I</th>\n",
       "    </tr>\n",
       "  </thead>\n",
       "  <tbody>\n",
       "    <tr>\n",
       "      <th>35</th>\n",
       "      <td>8</td>\n",
       "      <td>81</td>\n",
       "      <td>9412.034171</td>\n",
       "      <td>49</td>\n",
       "      <td>3</td>\n",
       "      <td>12</td>\n",
       "      <td>2</td>\n",
       "      <td>1</td>\n",
       "      <td>1</td>\n",
       "      <td>3</td>\n",
       "      <td>...</td>\n",
       "      <td>60.0</td>\n",
       "      <td>-6.457549</td>\n",
       "      <td>0.0</td>\n",
       "      <td>0.0</td>\n",
       "      <td>0.0</td>\n",
       "      <td>0.0</td>\n",
       "      <td>0.0</td>\n",
       "      <td>382.812993</td>\n",
       "      <td>-15.401970</td>\n",
       "      <td>57</td>\n",
       "    </tr>\n",
       "    <tr>\n",
       "      <th>36</th>\n",
       "      <td>8</td>\n",
       "      <td>82</td>\n",
       "      <td>9296.095772</td>\n",
       "      <td>49</td>\n",
       "      <td>3</td>\n",
       "      <td>12</td>\n",
       "      <td>2</td>\n",
       "      <td>1</td>\n",
       "      <td>1</td>\n",
       "      <td>3</td>\n",
       "      <td>...</td>\n",
       "      <td>60.0</td>\n",
       "      <td>-6.457549</td>\n",
       "      <td>0.0</td>\n",
       "      <td>0.0</td>\n",
       "      <td>0.0</td>\n",
       "      <td>0.0</td>\n",
       "      <td>0.0</td>\n",
       "      <td>382.812993</td>\n",
       "      <td>-15.573788</td>\n",
       "      <td>57</td>\n",
       "    </tr>\n",
       "    <tr>\n",
       "      <th>37</th>\n",
       "      <td>8</td>\n",
       "      <td>83</td>\n",
       "      <td>9452.091830</td>\n",
       "      <td>49</td>\n",
       "      <td>3</td>\n",
       "      <td>12</td>\n",
       "      <td>2</td>\n",
       "      <td>1</td>\n",
       "      <td>1</td>\n",
       "      <td>3</td>\n",
       "      <td>...</td>\n",
       "      <td>60.0</td>\n",
       "      <td>-6.457549</td>\n",
       "      <td>0.0</td>\n",
       "      <td>0.0</td>\n",
       "      <td>0.0</td>\n",
       "      <td>0.0</td>\n",
       "      <td>0.0</td>\n",
       "      <td>382.812993</td>\n",
       "      <td>-15.805687</td>\n",
       "      <td>57</td>\n",
       "    </tr>\n",
       "    <tr>\n",
       "      <th>38</th>\n",
       "      <td>8</td>\n",
       "      <td>84</td>\n",
       "      <td>9075.983611</td>\n",
       "      <td>49</td>\n",
       "      <td>3</td>\n",
       "      <td>12</td>\n",
       "      <td>2</td>\n",
       "      <td>1</td>\n",
       "      <td>1</td>\n",
       "      <td>3</td>\n",
       "      <td>...</td>\n",
       "      <td>60.0</td>\n",
       "      <td>-6.457549</td>\n",
       "      <td>0.0</td>\n",
       "      <td>0.0</td>\n",
       "      <td>0.0</td>\n",
       "      <td>0.0</td>\n",
       "      <td>0.0</td>\n",
       "      <td>382.812993</td>\n",
       "      <td>-15.307817</td>\n",
       "      <td>57</td>\n",
       "    </tr>\n",
       "    <tr>\n",
       "      <th>39</th>\n",
       "      <td>8</td>\n",
       "      <td>85</td>\n",
       "      <td>9385.769811</td>\n",
       "      <td>49</td>\n",
       "      <td>3</td>\n",
       "      <td>12</td>\n",
       "      <td>2</td>\n",
       "      <td>1</td>\n",
       "      <td>1</td>\n",
       "      <td>3</td>\n",
       "      <td>...</td>\n",
       "      <td>60.0</td>\n",
       "      <td>-6.457549</td>\n",
       "      <td>0.0</td>\n",
       "      <td>0.0</td>\n",
       "      <td>0.0</td>\n",
       "      <td>0.0</td>\n",
       "      <td>0.0</td>\n",
       "      <td>382.812993</td>\n",
       "      <td>-15.336238</td>\n",
       "      <td>57</td>\n",
       "    </tr>\n",
       "  </tbody>\n",
       "</table>\n",
       "<p>5 rows × 515 columns</p>\n",
       "</div>"
      ],
      "text/plain": [
       "    YY1  Y1        WGT09  AGE07  AGECL07  EDUC07  EDCL07  MARRIED07  KIDS07  \\\n",
       "35    8  81  9412.034171     49        3      12       2          1       1   \n",
       "36    8  82  9296.095772     49        3      12       2          1       1   \n",
       "37    8  83  9452.091830     49        3      12       2          1       1   \n",
       "38    8  84  9075.983611     49        3      12       2          1       1   \n",
       "39    8  85  9385.769811     49        3      12       2          1       1   \n",
       "\n",
       "    LIFECL07  ...  NHMORTPCT  WAGEINCPCT  BUSSEFARMINCPCT  INTDIVINCPCT  \\\n",
       "35         3  ...       60.0   -6.457549              0.0           0.0   \n",
       "36         3  ...       60.0   -6.457549              0.0           0.0   \n",
       "37         3  ...       60.0   -6.457549              0.0           0.0   \n",
       "38         3  ...       60.0   -6.457549              0.0           0.0   \n",
       "39         3  ...       60.0   -6.457549              0.0           0.0   \n",
       "\n",
       "    KGINCPCT  SSRETINCPCT  TRANSFOTHINCPCT  PSAVINGPCT  LEVERAGEPCT   I  \n",
       "35       0.0          0.0              0.0  382.812993   -15.401970  57  \n",
       "36       0.0          0.0              0.0  382.812993   -15.573788  57  \n",
       "37       0.0          0.0              0.0  382.812993   -15.805687  57  \n",
       "38       0.0          0.0              0.0  382.812993   -15.307817  57  \n",
       "39       0.0          0.0              0.0  382.812993   -15.336238  57  \n",
       "\n",
       "[5 rows x 515 columns]"
      ]
     },
     "execution_count": 4,
     "metadata": {},
     "output_type": "execute_result"
    }
   ],
   "source": [
    "mask = df[\"FEARED07\"] == 1\n",
    "df_fear = df[mask]\n",
    "df_fear.head()"
   ]
  },
  {
   "cell_type": "markdown",
   "id": "bfe294bf",
   "metadata": {},
   "source": [
    "### Explore\n",
    "\n",
    "**Age**\n",
    "\n",
    "Now that have the subset, let's explore the characteristics of this group. One of the features is age group (\"AGECL07\").\n",
    "\n",
    " Create a list age_groups with the unique values in the \"AGECL07\" column. Then review the entry for \"AGECL07\" in the Code Book to determine what the values represent."
   ]
  },
  {
   "cell_type": "code",
   "execution_count": 5,
   "id": "1d2a5963",
   "metadata": {},
   "outputs": [
    {
     "data": {
      "text/plain": [
       "array([3, 4, 1, 6, 2, 5], dtype=int64)"
      ]
     },
     "execution_count": 5,
     "metadata": {},
     "output_type": "execute_result"
    }
   ],
   "source": [
    "df_fear[\"AGECL07\"].unique()"
   ]
  },
  {
   "cell_type": "code",
   "execution_count": 7,
   "id": "7e613ded",
   "metadata": {},
   "outputs": [
    {
     "data": {
      "text/plain": [
       "AGECL07\n",
       "under 35    0.353648\n",
       "35-44       0.303381\n",
       "45-54       0.200623\n",
       "55-64       0.091192\n",
       "65-74       0.044484\n",
       "above 75    0.006673\n",
       "Name: proportion, dtype: float64"
      ]
     },
     "execution_count": 7,
     "metadata": {},
     "output_type": "execute_result"
    }
   ],
   "source": [
    "agecl_dict = {\n",
    "    1: \"under 35\",\n",
    "    2: \"35-44\",\n",
    "    3: \"45-54\",\n",
    "    4: \"55-64\",\n",
    "    5: \"65-74\",\n",
    "    6: \"above 75\"\n",
    "}\n",
    "age_cl = (\n",
    "    df_fear[\"AGECL07\"]\n",
    "    .replace(agecl_dict)\n",
    "    .value_counts(normalize=True)\n",
    ")\n",
    "age_cl"
   ]
  },
  {
   "cell_type": "markdown",
   "id": "180717c8",
   "metadata": {},
   "source": [
    "Now that i have better labels, let's make a bar chart and see the age distribution of our group."
   ]
  },
  {
   "cell_type": "code",
   "execution_count": 14,
   "id": "eef2f9b7",
   "metadata": {
    "scrolled": true
   },
   "outputs": [
    {
     "data": {
      "image/png": "[encoded data removed]",
      "text/plain": [
       "<Figure size 640x480 with 1 Axes>"
      ]
     },
     "metadata": {},
     "output_type": "display_data"
    }
   ],
   "source": [
    "age_cl.plot(\n",
    "    kind=\"bar\",\n",
    "    xlabel=\"Age Group\",\n",
    "    ylabel=\"Frequency (count)\",\n",
    "    title=\"Credit Fearful [Age Group]\"\n",
    ");"
   ]
  },
  {
   "cell_type": "markdown",
   "id": "3c754683",
   "metadata": {},
   "source": [
    "You might have noticed that by creating their own age groups, the authors of the survey have basically made a histogram for us comprised of 6 bins. Our chart is telling us that many of the people who fear being denied credit are younger. But the first two age groups cover a wider range than the other four. So it might be useful to look inside those values to get a more granular understanding of the data.\n",
    "\n",
    "To do that, we'll need to look at a different variable: \"AGE\". Whereas \"AGECL07\" was a categorical variable, \"AGE\" is continuous, so i can use it to make a histogram of our own"
   ]
  },
  {
   "cell_type": "markdown",
   "id": "cdac1801",
   "metadata": {},
   "source": [
    "Create a histogram of the \"AGE\" column with 10 bins."
   ]
  },
  {
   "cell_type": "code",
   "execution_count": 19,
   "id": "aaf1be86",
   "metadata": {},
   "outputs": [
    {
     "data": {
      "image/png": "[encoded data removed]",
      "text/plain": [
       "<Figure size 640x480 with 1 Axes>"
      ]
     },
     "metadata": {},
     "output_type": "display_data"
    }
   ],
   "source": [
    "df_fear[\"AGE07\"].hist(bins=10);"
   ]
  },
  {
   "cell_type": "markdown",
   "id": "0c204a4d",
   "metadata": {},
   "source": [
    "Createing a horizontal bar chart showing the normalized value counts for \"RACE\". In the chart, i will replace the numerical values with the true group names."
   ]
  },
  {
   "cell_type": "code",
   "execution_count": 20,
   "id": "49b5544a",
   "metadata": {
    "scrolled": true
   },
   "outputs": [
    {
     "data": {
      "text/plain": [
       "array([1, 2, 3, 5], dtype=int64)"
      ]
     },
     "execution_count": 20,
     "metadata": {},
     "output_type": "execute_result"
    }
   ],
   "source": [
    "df_fear[\"RACE\"].unique()"
   ]
  },
  {
   "cell_type": "code",
   "execution_count": 21,
   "id": "e43972c5",
   "metadata": {},
   "outputs": [
    {
     "data": {
      "text/plain": [
       "RACE\n",
       "White/None-Hispanic       0.557829\n",
       "Black/African-American    0.274466\n",
       "Hispanic                  0.133897\n",
       "Other                     0.033808\n",
       "Name: proportion, dtype: float64"
      ]
     },
     "execution_count": 21,
     "metadata": {},
     "output_type": "execute_result"
    }
   ],
   "source": [
    "race_dict = {\n",
    "    1: \"White/None-Hispanic\",\n",
    "    2: \"Black/African-American\",\n",
    "    3: \"Hispanic\",\n",
    "    5: \"Other\"\n",
    "}\n",
    "\n",
    "race_fear_cl = (\n",
    "    df_fear[\"RACE\"]\n",
    "    .replace(race_dict)\n",
    "    .value_counts(normalize=True)\n",
    ")\n",
    "race_fear_cl"
   ]
  },
  {
   "cell_type": "code",
   "execution_count": 22,
   "id": "97561986",
   "metadata": {},
   "outputs": [
    {
     "data": {
      "text/plain": [
       "(0.0, 1.0)"
      ]
     },
     "execution_count": 22,
     "metadata": {},
     "output_type": "execute_result"
    },
    {
     "data": {
      "image/png": "[encoded data removed]",
      "text/plain": [
       "<Figure size 640x480 with 1 Axes>"
      ]
     },
     "metadata": {},
     "output_type": "display_data"
    }
   ],
   "source": [
    "race_fear_cl.plot(kind=\"barh\")\n",
    "plt.xlim((0, 1))"
   ]
  },
  {
   "cell_type": "markdown",
   "id": "e988a35d",
   "metadata": {},
   "source": [
    "This suggests that White/Non-Hispanic people worry more about being denied credit, but thinking critically about what we're seeing, that might be because there are more White/Non-Hispanic in the population of the United States than there are other racial groups, and the sample for this survey was specifically drawn to be representative of the population as a whole."
   ]
  },
  {
   "cell_type": "code",
   "execution_count": 41,
   "id": "8e51e744",
   "metadata": {},
   "outputs": [
    {
     "data": {
      "text/plain": [
       "RACE\n",
       "White/None-Hispanic       0.798496\n",
       "Black/African-American    0.094426\n",
       "Hispanic                  0.066165\n",
       "Other                     0.040913\n",
       "Name: proportion, dtype: float64"
      ]
     },
     "execution_count": 41,
     "metadata": {},
     "output_type": "execute_result"
    }
   ],
   "source": [
    "race_dict = {\n",
    "    1: \"White/None-Hispanic\",\n",
    "    2: \"Black/African-American\",\n",
    "    3: \"Hispanic\",\n",
    "    5: \"Other\"\n",
    "}\n",
    "\n",
    "race_cl = (\n",
    "    df[\"RACE\"]\n",
    "    .replace(race_dict)\n",
    "    .value_counts(normalize=True)\n",
    ")\n",
    "race_cl"
   ]
  },
  {
   "cell_type": "code",
   "execution_count": 42,
   "id": "94af0351",
   "metadata": {},
   "outputs": [
    {
     "data": {
      "text/plain": [
       "(0.0, 1.0)"
      ]
     },
     "execution_count": 42,
     "metadata": {},
     "output_type": "execute_result"
    },
    {
     "data": {
      "image/png": "[encoded data removed]",
      "text/plain": [
       "<Figure size 640x480 with 1 Axes>"
      ]
     },
     "metadata": {},
     "output_type": "display_data"
    }
   ],
   "source": [
    "race_cl.plot(kind=\"barh\")\n",
    "plt.xlim((0, 1))"
   ]
  },
  {
   "cell_type": "markdown",
   "id": "4e779c83",
   "metadata": {},
   "source": [
    "How does this second bar chart change our perception of the first one? On the one hand, we can see that White Non-Hispanics account for around 70% of whole dataset, but only 54% of credit fearful respondents. On the other hand, Black and Hispanic respondents represent 23% of the whole dataset but 40% of credit fearful respondents. In other words, Black and Hispanic households are actually more likely to be in the credit fearful group."
   ]
  },
  {
   "cell_type": "markdown",
   "id": "f75fc00c",
   "metadata": {},
   "source": [
    "Let's make correlation matrices using the rest of the data for both df and df_fear and see if the differences persist. Here, i will look at only 5 features: **\"ASSET\", \"HOUSES\", \"INCOME\", \"DEBT\", and \"EDUC\"**.\n",
    "\n",
    "Making a correlation matrix using df, considering only the columns **\"ASSET\", \"HOUSES\", \"INCOME\", \"DEBT\", and \"EDUC\"**."
   ]
  },
  {
   "cell_type": "code",
   "execution_count": 24,
   "id": "d9f9f7e7",
   "metadata": {
    "scrolled": true
   },
   "outputs": [
    {
     "data": {
      "text/html": [
       "<style type=\"text/css\">\n",
       "#T_bf3fb_row0_col0, #T_bf3fb_row1_col1, #T_bf3fb_row2_col2, #T_bf3fb_row3_col3, #T_bf3fb_row4_col4 {\n",
       "  background-color: #023858;\n",
       "  color: #f1f1f1;\n",
       "}\n",
       "#T_bf3fb_row0_col1, #T_bf3fb_row1_col0 {\n",
       "  background-color: #529bc7;\n",
       "  color: #f1f1f1;\n",
       "}\n",
       "#T_bf3fb_row0_col2, #T_bf3fb_row2_col0 {\n",
       "  background-color: #6ba5cd;\n",
       "  color: #f1f1f1;\n",
       "}\n",
       "#T_bf3fb_row0_col3, #T_bf3fb_row2_col3, #T_bf3fb_row3_col0, #T_bf3fb_row3_col2 {\n",
       "  background-color: #f5eff6;\n",
       "  color: #000000;\n",
       "}\n",
       "#T_bf3fb_row0_col4, #T_bf3fb_row4_col0 {\n",
       "  background-color: #dbdaeb;\n",
       "  color: #000000;\n",
       "}\n",
       "#T_bf3fb_row1_col2, #T_bf3fb_row2_col1 {\n",
       "  background-color: #d2d2e7;\n",
       "  color: #000000;\n",
       "}\n",
       "#T_bf3fb_row1_col3, #T_bf3fb_row3_col1 {\n",
       "  background-color: #fef6fa;\n",
       "  color: #000000;\n",
       "}\n",
       "#T_bf3fb_row1_col4, #T_bf3fb_row4_col1 {\n",
       "  background-color: #f6eff7;\n",
       "  color: #000000;\n",
       "}\n",
       "#T_bf3fb_row2_col4, #T_bf3fb_row4_col2 {\n",
       "  background-color: #f5eef6;\n",
       "  color: #000000;\n",
       "}\n",
       "#T_bf3fb_row3_col4, #T_bf3fb_row4_col3 {\n",
       "  background-color: #fff7fb;\n",
       "  color: #000000;\n",
       "}\n",
       "</style>\n",
       "<table id=\"T_bf3fb\">\n",
       "  <thead>\n",
       "    <tr>\n",
       "      <th class=\"blank level0\" >&nbsp;</th>\n",
       "      <th id=\"T_bf3fb_level0_col0\" class=\"col_heading level0 col0\" >ASSET07</th>\n",
       "      <th id=\"T_bf3fb_level0_col1\" class=\"col_heading level0 col1\" >INCOME07</th>\n",
       "      <th id=\"T_bf3fb_level0_col2\" class=\"col_heading level0 col2\" >HOUSES07</th>\n",
       "      <th id=\"T_bf3fb_level0_col3\" class=\"col_heading level0 col3\" >EDUC07</th>\n",
       "      <th id=\"T_bf3fb_level0_col4\" class=\"col_heading level0 col4\" >DEBT07</th>\n",
       "    </tr>\n",
       "  </thead>\n",
       "  <tbody>\n",
       "    <tr>\n",
       "      <th id=\"T_bf3fb_level0_row0\" class=\"row_heading level0 row0\" >ASSET07</th>\n",
       "      <td id=\"T_bf3fb_row0_col0\" class=\"data row0 col0\" >1.000000</td>\n",
       "      <td id=\"T_bf3fb_row0_col1\" class=\"data row0 col1\" >0.612826</td>\n",
       "      <td id=\"T_bf3fb_row0_col2\" class=\"data row0 col2\" >0.567786</td>\n",
       "      <td id=\"T_bf3fb_row0_col3\" class=\"data row0 col3\" >0.158000</td>\n",
       "      <td id=\"T_bf3fb_row0_col4\" class=\"data row0 col4\" >0.282238</td>\n",
       "    </tr>\n",
       "    <tr>\n",
       "      <th id=\"T_bf3fb_level0_row1\" class=\"row_heading level0 row1\" >INCOME07</th>\n",
       "      <td id=\"T_bf3fb_row1_col0\" class=\"data row1 col0\" >0.612826</td>\n",
       "      <td id=\"T_bf3fb_row1_col1\" class=\"data row1 col1\" >1.000000</td>\n",
       "      <td id=\"T_bf3fb_row1_col2\" class=\"data row1 col2\" >0.320918</td>\n",
       "      <td id=\"T_bf3fb_row1_col3\" class=\"data row1 col3\" >0.111176</td>\n",
       "      <td id=\"T_bf3fb_row1_col4\" class=\"data row1 col4\" >0.157061</td>\n",
       "    </tr>\n",
       "    <tr>\n",
       "      <th id=\"T_bf3fb_level0_row2\" class=\"row_heading level0 row2\" >HOUSES07</th>\n",
       "      <td id=\"T_bf3fb_row2_col0\" class=\"data row2 col0\" >0.567786</td>\n",
       "      <td id=\"T_bf3fb_row2_col1\" class=\"data row2 col1\" >0.320918</td>\n",
       "      <td id=\"T_bf3fb_row2_col2\" class=\"data row2 col2\" >1.000000</td>\n",
       "      <td id=\"T_bf3fb_row2_col3\" class=\"data row2 col3\" >0.157824</td>\n",
       "      <td id=\"T_bf3fb_row2_col4\" class=\"data row2 col4\" >0.163374</td>\n",
       "    </tr>\n",
       "    <tr>\n",
       "      <th id=\"T_bf3fb_level0_row3\" class=\"row_heading level0 row3\" >EDUC07</th>\n",
       "      <td id=\"T_bf3fb_row3_col0\" class=\"data row3 col0\" >0.158000</td>\n",
       "      <td id=\"T_bf3fb_row3_col1\" class=\"data row3 col1\" >0.111176</td>\n",
       "      <td id=\"T_bf3fb_row3_col2\" class=\"data row3 col2\" >0.157824</td>\n",
       "      <td id=\"T_bf3fb_row3_col3\" class=\"data row3 col3\" >1.000000</td>\n",
       "      <td id=\"T_bf3fb_row3_col4\" class=\"data row3 col4\" >0.101436</td>\n",
       "    </tr>\n",
       "    <tr>\n",
       "      <th id=\"T_bf3fb_level0_row4\" class=\"row_heading level0 row4\" >DEBT07</th>\n",
       "      <td id=\"T_bf3fb_row4_col0\" class=\"data row4 col0\" >0.282238</td>\n",
       "      <td id=\"T_bf3fb_row4_col1\" class=\"data row4 col1\" >0.157061</td>\n",
       "      <td id=\"T_bf3fb_row4_col2\" class=\"data row4 col2\" >0.163374</td>\n",
       "      <td id=\"T_bf3fb_row4_col3\" class=\"data row4 col3\" >0.101436</td>\n",
       "      <td id=\"T_bf3fb_row4_col4\" class=\"data row4 col4\" >1.000000</td>\n",
       "    </tr>\n",
       "  </tbody>\n",
       "</table>\n"
      ],
      "text/plain": [
       "<pandas.io.formats.style.Styler at 0x2c9988cc970>"
      ]
     },
     "execution_count": 24,
     "metadata": {},
     "output_type": "execute_result"
    }
   ],
   "source": [
    "mask = [\"ASSET07\", \"INCOME07\", \"HOUSES07\", \"EDUC07\", \"DEBT07\"]\n",
    "corr = df[mask].corr()\n",
    "corr.style.background_gradient(axis=None)"
   ]
  },
  {
   "cell_type": "markdown",
   "id": "4e4b9d80",
   "metadata": {},
   "source": [
    "Make a correlation matrix using df_fear."
   ]
  },
  {
   "cell_type": "code",
   "execution_count": 25,
   "id": "8e0e237f",
   "metadata": {
    "scrolled": true
   },
   "outputs": [
    {
     "data": {
      "text/html": [
       "<style type=\"text/css\">\n",
       "#T_1a520_row0_col0, #T_1a520_row1_col1, #T_1a520_row2_col2, #T_1a520_row3_col3, #T_1a520_row4_col4 {\n",
       "  background-color: #023858;\n",
       "  color: #f1f1f1;\n",
       "}\n",
       "#T_1a520_row0_col1, #T_1a520_row1_col0 {\n",
       "  background-color: #023b5d;\n",
       "  color: #f1f1f1;\n",
       "}\n",
       "#T_1a520_row0_col2, #T_1a520_row2_col0 {\n",
       "  background-color: #c0c9e2;\n",
       "  color: #000000;\n",
       "}\n",
       "#T_1a520_row0_col3, #T_1a520_row1_col3, #T_1a520_row3_col0, #T_1a520_row3_col1 {\n",
       "  background-color: #fff7fb;\n",
       "  color: #000000;\n",
       "}\n",
       "#T_1a520_row0_col4, #T_1a520_row4_col0 {\n",
       "  background-color: #7bacd1;\n",
       "  color: #f1f1f1;\n",
       "}\n",
       "#T_1a520_row1_col2, #T_1a520_row2_col1 {\n",
       "  background-color: #bfc9e1;\n",
       "  color: #000000;\n",
       "}\n",
       "#T_1a520_row1_col4, #T_1a520_row4_col1 {\n",
       "  background-color: #83afd3;\n",
       "  color: #f1f1f1;\n",
       "}\n",
       "#T_1a520_row2_col3, #T_1a520_row3_col2 {\n",
       "  background-color: #e0deed;\n",
       "  color: #000000;\n",
       "}\n",
       "#T_1a520_row2_col4, #T_1a520_row4_col2 {\n",
       "  background-color: #045f95;\n",
       "  color: #f1f1f1;\n",
       "}\n",
       "#T_1a520_row3_col4, #T_1a520_row4_col3 {\n",
       "  background-color: #d9d8ea;\n",
       "  color: #000000;\n",
       "}\n",
       "</style>\n",
       "<table id=\"T_1a520\">\n",
       "  <thead>\n",
       "    <tr>\n",
       "      <th class=\"blank level0\" >&nbsp;</th>\n",
       "      <th id=\"T_1a520_level0_col0\" class=\"col_heading level0 col0\" >ASSET07</th>\n",
       "      <th id=\"T_1a520_level0_col1\" class=\"col_heading level0 col1\" >INCOME07</th>\n",
       "      <th id=\"T_1a520_level0_col2\" class=\"col_heading level0 col2\" >HOUSES07</th>\n",
       "      <th id=\"T_1a520_level0_col3\" class=\"col_heading level0 col3\" >EDUC07</th>\n",
       "      <th id=\"T_1a520_level0_col4\" class=\"col_heading level0 col4\" >DEBT07</th>\n",
       "    </tr>\n",
       "  </thead>\n",
       "  <tbody>\n",
       "    <tr>\n",
       "      <th id=\"T_1a520_level0_row0\" class=\"row_heading level0 row0\" >ASSET07</th>\n",
       "      <td id=\"T_1a520_row0_col0\" class=\"data row0 col0\" >1.000000</td>\n",
       "      <td id=\"T_1a520_row0_col1\" class=\"data row0 col1\" >0.988192</td>\n",
       "      <td id=\"T_1a520_row0_col2\" class=\"data row0 col2\" >0.310626</td>\n",
       "      <td id=\"T_1a520_row0_col3\" class=\"data row0 col3\" >0.015418</td>\n",
       "      <td id=\"T_1a520_row0_col4\" class=\"data row0 col4\" >0.488480</td>\n",
       "    </tr>\n",
       "    <tr>\n",
       "      <th id=\"T_1a520_level0_row1\" class=\"row_heading level0 row1\" >INCOME07</th>\n",
       "      <td id=\"T_1a520_row1_col0\" class=\"data row1 col0\" >0.988192</td>\n",
       "      <td id=\"T_1a520_row1_col1\" class=\"data row1 col1\" >1.000000</td>\n",
       "      <td id=\"T_1a520_row1_col2\" class=\"data row1 col2\" >0.311956</td>\n",
       "      <td id=\"T_1a520_row1_col3\" class=\"data row1 col3\" >0.015802</td>\n",
       "      <td id=\"T_1a520_row1_col4\" class=\"data row1 col4\" >0.470124</td>\n",
       "    </tr>\n",
       "    <tr>\n",
       "      <th id=\"T_1a520_level0_row2\" class=\"row_heading level0 row2\" >HOUSES07</th>\n",
       "      <td id=\"T_1a520_row2_col0\" class=\"data row2 col0\" >0.310626</td>\n",
       "      <td id=\"T_1a520_row2_col1\" class=\"data row2 col1\" >0.311956</td>\n",
       "      <td id=\"T_1a520_row2_col2\" class=\"data row2 col2\" >1.000000</td>\n",
       "      <td id=\"T_1a520_row2_col3\" class=\"data row2 col3\" >0.188830</td>\n",
       "      <td id=\"T_1a520_row2_col4\" class=\"data row2 col4\" >0.849723</td>\n",
       "    </tr>\n",
       "    <tr>\n",
       "      <th id=\"T_1a520_level0_row3\" class=\"row_heading level0 row3\" >EDUC07</th>\n",
       "      <td id=\"T_1a520_row3_col0\" class=\"data row3 col0\" >0.015418</td>\n",
       "      <td id=\"T_1a520_row3_col1\" class=\"data row3 col1\" >0.015802</td>\n",
       "      <td id=\"T_1a520_row3_col2\" class=\"data row3 col2\" >0.188830</td>\n",
       "      <td id=\"T_1a520_row3_col3\" class=\"data row3 col3\" >1.000000</td>\n",
       "      <td id=\"T_1a520_row3_col4\" class=\"data row3 col4\" >0.225671</td>\n",
       "    </tr>\n",
       "    <tr>\n",
       "      <th id=\"T_1a520_level0_row4\" class=\"row_heading level0 row4\" >DEBT07</th>\n",
       "      <td id=\"T_1a520_row4_col0\" class=\"data row4 col0\" >0.488480</td>\n",
       "      <td id=\"T_1a520_row4_col1\" class=\"data row4 col1\" >0.470124</td>\n",
       "      <td id=\"T_1a520_row4_col2\" class=\"data row4 col2\" >0.849723</td>\n",
       "      <td id=\"T_1a520_row4_col3\" class=\"data row4 col3\" >0.225671</td>\n",
       "      <td id=\"T_1a520_row4_col4\" class=\"data row4 col4\" >1.000000</td>\n",
       "    </tr>\n",
       "  </tbody>\n",
       "</table>\n"
      ],
      "text/plain": [
       "<pandas.io.formats.style.Styler at 0x2c9875cc100>"
      ]
     },
     "execution_count": 25,
     "metadata": {},
     "output_type": "execute_result"
    }
   ],
   "source": [
    "mask = [\"ASSET07\", \"INCOME07\", \"HOUSES07\", \"EDUC07\", \"DEBT07\"]\n",
    "corr = df_fear[mask].corr()\n",
    "corr.style.background_gradient(axis=None)"
   ]
  },
  {
   "cell_type": "markdown",
   "id": "e5c046df",
   "metadata": {},
   "source": [
    " **Education**\n",
    " \n",
    " Creating a DataFrame edu that shows the normalized frequency for education categories for both the credit fearful and non-credit fearful households in the dataset."
   ]
  },
  {
   "cell_type": "code",
   "execution_count": 26,
   "id": "b15c5dd4",
   "metadata": {
    "scrolled": true
   },
   "outputs": [
    {
     "data": {
      "text/html": [
       "<div>\n",
       "<style scoped>\n",
       "    .dataframe tbody tr th:only-of-type {\n",
       "        vertical-align: middle;\n",
       "    }\n",
       "\n",
       "    .dataframe tbody tr th {\n",
       "        vertical-align: top;\n",
       "    }\n",
       "\n",
       "    .dataframe thead th {\n",
       "        text-align: right;\n",
       "    }\n",
       "</style>\n",
       "<table border=\"1\" class=\"dataframe\">\n",
       "  <thead>\n",
       "    <tr style=\"text-align: right;\">\n",
       "      <th></th>\n",
       "      <th>FEARED07</th>\n",
       "      <th>EDUC07</th>\n",
       "      <th>frequency</th>\n",
       "    </tr>\n",
       "  </thead>\n",
       "  <tbody>\n",
       "    <tr>\n",
       "      <th>0</th>\n",
       "      <td>0</td>\n",
       "      <td>16</td>\n",
       "      <td>0.263603</td>\n",
       "    </tr>\n",
       "    <tr>\n",
       "      <th>1</th>\n",
       "      <td>0</td>\n",
       "      <td>17</td>\n",
       "      <td>0.234372</td>\n",
       "    </tr>\n",
       "    <tr>\n",
       "      <th>2</th>\n",
       "      <td>0</td>\n",
       "      <td>12</td>\n",
       "      <td>0.229148</td>\n",
       "    </tr>\n",
       "    <tr>\n",
       "      <th>3</th>\n",
       "      <td>0</td>\n",
       "      <td>14</td>\n",
       "      <td>0.109409</td>\n",
       "    </tr>\n",
       "    <tr>\n",
       "      <th>4</th>\n",
       "      <td>0</td>\n",
       "      <td>13</td>\n",
       "      <td>0.043083</td>\n",
       "    </tr>\n",
       "    <tr>\n",
       "      <th>5</th>\n",
       "      <td>0</td>\n",
       "      <td>15</td>\n",
       "      <td>0.027880</td>\n",
       "    </tr>\n",
       "    <tr>\n",
       "      <th>6</th>\n",
       "      <td>0</td>\n",
       "      <td>11</td>\n",
       "      <td>0.023185</td>\n",
       "    </tr>\n",
       "    <tr>\n",
       "      <th>7</th>\n",
       "      <td>0</td>\n",
       "      <td>10</td>\n",
       "      <td>0.021776</td>\n",
       "    </tr>\n",
       "    <tr>\n",
       "      <th>8</th>\n",
       "      <td>0</td>\n",
       "      <td>9</td>\n",
       "      <td>0.015437</td>\n",
       "    </tr>\n",
       "    <tr>\n",
       "      <th>9</th>\n",
       "      <td>0</td>\n",
       "      <td>8</td>\n",
       "      <td>0.012678</td>\n",
       "    </tr>\n",
       "    <tr>\n",
       "      <th>10</th>\n",
       "      <td>0</td>\n",
       "      <td>6</td>\n",
       "      <td>0.006457</td>\n",
       "    </tr>\n",
       "    <tr>\n",
       "      <th>11</th>\n",
       "      <td>0</td>\n",
       "      <td>7</td>\n",
       "      <td>0.002935</td>\n",
       "    </tr>\n",
       "    <tr>\n",
       "      <th>12</th>\n",
       "      <td>0</td>\n",
       "      <td>5</td>\n",
       "      <td>0.002407</td>\n",
       "    </tr>\n",
       "    <tr>\n",
       "      <th>13</th>\n",
       "      <td>0</td>\n",
       "      <td>4</td>\n",
       "      <td>0.002348</td>\n",
       "    </tr>\n",
       "    <tr>\n",
       "      <th>14</th>\n",
       "      <td>0</td>\n",
       "      <td>-1</td>\n",
       "      <td>0.002054</td>\n",
       "    </tr>\n",
       "    <tr>\n",
       "      <th>15</th>\n",
       "      <td>0</td>\n",
       "      <td>2</td>\n",
       "      <td>0.001761</td>\n",
       "    </tr>\n",
       "    <tr>\n",
       "      <th>16</th>\n",
       "      <td>0</td>\n",
       "      <td>3</td>\n",
       "      <td>0.001174</td>\n",
       "    </tr>\n",
       "    <tr>\n",
       "      <th>17</th>\n",
       "      <td>0</td>\n",
       "      <td>1</td>\n",
       "      <td>0.000293</td>\n",
       "    </tr>\n",
       "    <tr>\n",
       "      <th>18</th>\n",
       "      <td>1</td>\n",
       "      <td>12</td>\n",
       "      <td>0.338968</td>\n",
       "    </tr>\n",
       "    <tr>\n",
       "      <th>19</th>\n",
       "      <td>1</td>\n",
       "      <td>14</td>\n",
       "      <td>0.156584</td>\n",
       "    </tr>\n",
       "    <tr>\n",
       "      <th>20</th>\n",
       "      <td>1</td>\n",
       "      <td>16</td>\n",
       "      <td>0.106762</td>\n",
       "    </tr>\n",
       "    <tr>\n",
       "      <th>21</th>\n",
       "      <td>1</td>\n",
       "      <td>13</td>\n",
       "      <td>0.095641</td>\n",
       "    </tr>\n",
       "    <tr>\n",
       "      <th>22</th>\n",
       "      <td>1</td>\n",
       "      <td>11</td>\n",
       "      <td>0.068950</td>\n",
       "    </tr>\n",
       "    <tr>\n",
       "      <th>23</th>\n",
       "      <td>1</td>\n",
       "      <td>15</td>\n",
       "      <td>0.053826</td>\n",
       "    </tr>\n",
       "    <tr>\n",
       "      <th>24</th>\n",
       "      <td>1</td>\n",
       "      <td>10</td>\n",
       "      <td>0.046708</td>\n",
       "    </tr>\n",
       "    <tr>\n",
       "      <th>25</th>\n",
       "      <td>1</td>\n",
       "      <td>17</td>\n",
       "      <td>0.042260</td>\n",
       "    </tr>\n",
       "    <tr>\n",
       "      <th>26</th>\n",
       "      <td>1</td>\n",
       "      <td>9</td>\n",
       "      <td>0.038701</td>\n",
       "    </tr>\n",
       "    <tr>\n",
       "      <th>27</th>\n",
       "      <td>1</td>\n",
       "      <td>8</td>\n",
       "      <td>0.022242</td>\n",
       "    </tr>\n",
       "    <tr>\n",
       "      <th>28</th>\n",
       "      <td>1</td>\n",
       "      <td>7</td>\n",
       "      <td>0.011121</td>\n",
       "    </tr>\n",
       "    <tr>\n",
       "      <th>29</th>\n",
       "      <td>1</td>\n",
       "      <td>5</td>\n",
       "      <td>0.006673</td>\n",
       "    </tr>\n",
       "    <tr>\n",
       "      <th>30</th>\n",
       "      <td>1</td>\n",
       "      <td>6</td>\n",
       "      <td>0.006673</td>\n",
       "    </tr>\n",
       "    <tr>\n",
       "      <th>31</th>\n",
       "      <td>1</td>\n",
       "      <td>2</td>\n",
       "      <td>0.002669</td>\n",
       "    </tr>\n",
       "    <tr>\n",
       "      <th>32</th>\n",
       "      <td>1</td>\n",
       "      <td>1</td>\n",
       "      <td>0.002224</td>\n",
       "    </tr>\n",
       "  </tbody>\n",
       "</table>\n",
       "</div>"
      ],
      "text/plain": [
       "    FEARED07  EDUC07  frequency\n",
       "0          0      16   0.263603\n",
       "1          0      17   0.234372\n",
       "2          0      12   0.229148\n",
       "3          0      14   0.109409\n",
       "4          0      13   0.043083\n",
       "5          0      15   0.027880\n",
       "6          0      11   0.023185\n",
       "7          0      10   0.021776\n",
       "8          0       9   0.015437\n",
       "9          0       8   0.012678\n",
       "10         0       6   0.006457\n",
       "11         0       7   0.002935\n",
       "12         0       5   0.002407\n",
       "13         0       4   0.002348\n",
       "14         0      -1   0.002054\n",
       "15         0       2   0.001761\n",
       "16         0       3   0.001174\n",
       "17         0       1   0.000293\n",
       "18         1      12   0.338968\n",
       "19         1      14   0.156584\n",
       "20         1      16   0.106762\n",
       "21         1      13   0.095641\n",
       "22         1      11   0.068950\n",
       "23         1      15   0.053826\n",
       "24         1      10   0.046708\n",
       "25         1      17   0.042260\n",
       "26         1       9   0.038701\n",
       "27         1       8   0.022242\n",
       "28         1       7   0.011121\n",
       "29         1       5   0.006673\n",
       "30         1       6   0.006673\n",
       "31         1       2   0.002669\n",
       "32         1       1   0.002224"
      ]
     },
     "execution_count": 26,
     "metadata": {},
     "output_type": "execute_result"
    }
   ],
   "source": [
    "educ = (\n",
    "    df[\"EDUC07\"]\n",
    "    .groupby(df[\"FEARED07\"])\n",
    "    .value_counts(normalize=True)\n",
    "    .rename(\"frequency\")\n",
    "    .to_frame()\n",
    "    .reset_index()\n",
    ")\n",
    "educ"
   ]
  },
  {
   "cell_type": "markdown",
   "id": "df83f1f7",
   "metadata": {},
   "source": [
    "Using seaborn, create a side-by-side bar chart of educ. Set hue to \"TURNFEAR\", and make sure that the education categories are in the correct order along the x-axis. Label to the x-axis \"Education Level\", the y-axis \"Frequency (%)\", and use the title \"Educational Attainment: Credit Fearful vs. Non-fearful\"."
   ]
  },
  {
   "cell_type": "code",
   "execution_count": 29,
   "id": "a4686a2b",
   "metadata": {
    "scrolled": true
   },
   "outputs": [
    {
     "data": {
      "image/png": "[encoded data removed]",
      "text/plain": [
       "<Figure size 640x480 with 1 Axes>"
      ]
     },
     "metadata": {},
     "output_type": "display_data"
    }
   ],
   "source": [
    "sns.barplot(\n",
    "    x=\"EDUC07\",\n",
    "    y=\"frequency\",\n",
    "    hue=\"FEARED07\",\n",
    "    data=educ\n",
    ");"
   ]
  },
  {
   "cell_type": "markdown",
   "id": "360ccf3c",
   "metadata": {},
   "source": [
    " Using df to make a scatter plot showing the relationship between DEBT and ASSET."
   ]
  },
  {
   "cell_type": "code",
   "execution_count": 78,
   "id": "f2b911c5",
   "metadata": {
    "scrolled": true
   },
   "outputs": [
    {
     "data": {
      "image/png": "[encoded data removed]",
      "text/plain": [
       "<Figure size 640x480 with 1 Axes>"
      ]
     },
     "metadata": {},
     "output_type": "display_data"
    }
   ],
   "source": [
    "plt.scatter(x=df[\"DEBT07\"], y=df[\"ASSET07\"]);"
   ]
  },
  {
   "cell_type": "markdown",
   "id": "e6952128",
   "metadata": {},
   "source": [
    " Using df_fear to make a scatter plot showing the relationship between DEBT and ASSET."
   ]
  },
  {
   "cell_type": "code",
   "execution_count": 79,
   "id": "b00debc7",
   "metadata": {
    "scrolled": false
   },
   "outputs": [
    {
     "data": {
      "image/png": "[encoded data removed]",
      "text/plain": [
       "<Figure size 640x480 with 1 Axes>"
      ]
     },
     "metadata": {},
     "output_type": "display_data"
    }
   ],
   "source": [
    "plt.scatter(x=df_fear[\"DEBT07\"], y=df_fear[\"ASSET07\"]);"
   ]
  },
  {
   "cell_type": "markdown",
   "id": "095e7a31",
   "metadata": {},
   "source": [
    ">You can see relationship in our df_fear graph is flatter than the one in our df graph, but they clearly are different."
   ]
  },
  {
   "cell_type": "markdown",
   "id": "39a7bb2e",
   "metadata": {},
   "source": [
    "Using df to make a scatter plot showing the relationship between HOUSES and DEBT."
   ]
  },
  {
   "cell_type": "code",
   "execution_count": 80,
   "id": "5df08e87",
   "metadata": {
    "scrolled": true
   },
   "outputs": [
    {
     "data": {
      "image/png": "[encoded data removed]",
      "text/plain": [
       "<Figure size 640x480 with 1 Axes>"
      ]
     },
     "metadata": {},
     "output_type": "display_data"
    }
   ],
   "source": [
    "plt.scatter(x=df[\"DEBT07\"], y=df[\"HOUSES07\"]);"
   ]
  },
  {
   "cell_type": "markdown",
   "id": "93902250",
   "metadata": {},
   "source": [
    "Using df_fear to make a scatter plot showing the relationship between HOUSES and DEBT."
   ]
  },
  {
   "cell_type": "code",
   "execution_count": 81,
   "id": "f664d2c1",
   "metadata": {
    "scrolled": true
   },
   "outputs": [
    {
     "data": {
      "image/png": "[encoded data removed]",
      "text/plain": [
       "<Figure size 640x480 with 1 Axes>"
      ]
     },
     "metadata": {},
     "output_type": "display_data"
    }
   ],
   "source": [
    "plt.scatter(x=df_fear[\"DEBT07\"], y=df_fear[\"HOUSES07\"]);"
   ]
  },
  {
   "cell_type": "markdown",
   "id": "a8192aed",
   "metadata": {},
   "source": [
    "The outliers make it a little difficult to see the difference between these two plots, but the relationship is clear enough: our df_fear graph shows an almost perfect linear relationship, while the df graph shows something a little more muddled. You might also notice that the datapoints on the df_fear graph form several little groups. Those are called \"clusters,\" and we'll be talking more about how to analyze clustered data in the next prooject."
   ]
  }
 ],
 "metadata": {
  "kernelspec": {
   "display_name": "Python 3 (ipykernel)",
   "language": "python",
   "name": "python3"
  },
  "language_info": {
   "codemirror_mode": {
    "name": "ipython",
    "version": 3
   },
   "file_extension": ".py",
   "mimetype": "text/x-python",
   "name": "python",
   "nbconvert_exporter": "python",
   "pygments_lexer": "ipython3",
   "version": "3.9.13"
  }
 },
 "nbformat": 4,
 "nbformat_minor": 5
}
